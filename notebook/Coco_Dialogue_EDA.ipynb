{
 "cells": [
  {
   "cell_type": "markdown",
   "id": "083abb98-f6d0-4abc-abae-a375d380ac68",
   "metadata": {},
   "source": [
    "## Importing necessary libraries"
   ]
  },
  {
   "cell_type": "code",
   "execution_count": 1,
   "id": "aee2d829-1da7-479c-b88a-16edd5cbd1ef",
   "metadata": {},
   "outputs": [
    {
     "name": "stderr",
     "output_type": "stream",
     "text": [
      "[nltk_data] Downloading package punkt to\n",
      "[nltk_data]     C:\\Users\\su1qt\\AppData\\Roaming\\nltk_data...\n",
      "[nltk_data]   Package punkt is already up-to-date!\n",
      "[nltk_data] Downloading package vader_lexicon to\n",
      "[nltk_data]     C:\\Users\\su1qt\\AppData\\Roaming\\nltk_data...\n",
      "[nltk_data]   Package vader_lexicon is already up-to-date!\n"
     ]
    }
   ],
   "source": [
    "import nltk\n",
    "nltk.download('punkt')\n",
    "nltk.download('vader_lexicon')\n",
    "import pandas as pd\n",
    "import matplotlib.pyplot as plt\n",
    "import seaborn as sns\n",
    "import nltk\n",
    "from transformers import pipeline\n",
    "import sklearn\n",
    "import vaderSentiment"
   ]
  },
  {
   "cell_type": "code",
   "execution_count": null,
   "id": "ea254fe5-6dd3-4f0c-8239-e08492f6e1ae",
   "metadata": {},
   "outputs": [],
   "source": [
    "import os\n",
    "# Define the paths\n",
    "scripts_raw_path = r'C:\\Users\\su1qt\\Significant Projects\\Honors Research\\data\\scripts_raw'  # Adjusted path\n",
    "dialogues_path = r'C:\\Users\\su1qt\\Significant Projects\\Honors Research\\data\\dialogues\\Aladdin'      # Output directory\n",
    "output_viz_path = r'C:\\Users\\su1qt\\Significant Projects\\Honors Research\\outputs\\Aladdin'\n",
    "\n",
    "# Ensure the output directory exists\n",
    "if not os.path.exists(dialogues_path):\n",
    "    os.makedirs(dialogues_path)\n",
    "\n",
    "# Define the path to the aladdin script\n",
    "script_filename = 'aladdin_script.txt'\n",
    "script_path = os.path.join(scripts_raw_path, script_filename)\n",
    "\n",
    "# Verify that the script file exists\n",
    "if not os.path.isfile(script_path):\n",
    "    print(f\"Error: The file {script_path} does not exist.\")\n",
    "else:\n",
    "    print(f\"Processing script: {script_path}\")"
   ]
  }
 ],
 "metadata": {
  "kernelspec": {
   "display_name": "Python 3 (ipykernel)",
   "language": "python",
   "name": "python3"
  },
  "language_info": {
   "codemirror_mode": {
    "name": "ipython",
    "version": 3
   },
   "file_extension": ".py",
   "mimetype": "text/x-python",
   "name": "python",
   "nbconvert_exporter": "python",
   "pygments_lexer": "ipython3",
   "version": "3.12.2"
  }
 },
 "nbformat": 4,
 "nbformat_minor": 5
}
